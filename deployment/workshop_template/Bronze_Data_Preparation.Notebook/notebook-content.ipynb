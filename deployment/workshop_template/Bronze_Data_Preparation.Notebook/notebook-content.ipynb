{
    "nbformat": 4,
    "nbformat_minor": 5,
    "metadata": {
        "language_info": {
            "name": "python"
        },
        "kernel_info": {
            "name": "synapse_pyspark",
            "jupyter_kernel_name": null
        },
        "kernelspec": {
            "display_name": "synapse_pyspark",
            "language": null,
            "name": "synapse_pyspark"
        },
        "a365ComputeOptions": null,
        "sessionKeepAliveTimeout": 0,
        "dependencies": {
            "lakehouse": {
                "default_lakehouse": "3ad63567-2849-4e5b-9cf2-eacd059e50a5",
                "default_lakehouse_name": "Lakehouse_Bronze",
                "default_lakehouse_workspace_id": "8e0cc78d-1667-4e88-9523-a04c1d5dd187",
                "known_lakehouses": [
                    {
                        "id": "3ad63567-2849-4e5b-9cf2-eacd059e50a5"
                    }
                ]
            },
            "environment": {}
        },
        "microsoft": {
            "language": "python",
            "language_group": "synapse_pyspark",
            "ms_spell_check": {
                "ms_spell_check_language": "en"
            }
        },
        "nteract": {
            "version": "nteract-front-end@1.0.0"
        },
        "spark_compute": {
            "compute_id": "/trident/default",
            "session_options": {
                "conf": {
                    "spark.synapse.nbs.session.timeout": "1200000"
                }
            }
        }
    },
    "cells": [
        {
            "id": "7d724cff-340d-49b1-af06-13f0f6fca2aa",
            "cell_type": "markdown",
            "metadata": {
                "microsoft": {
                    "language": "python",
                    "language_group": "synapse_pyspark"
                },
                "nteract": {
                    "transient": {
                        "deleting": false
                    }
                }
            },
            "source": [
                "# Dev/Test/Prod data set simulation in a Bronze layer\n",
                "\n",
                "Shortcuts will be created to different t3_* tables depending on stage."
            ],
            "outputs": []
        },
        {
            "id": "8ead4713-01ac-4805-830f-5d1cb49d3507",
            "cell_type": "code",
            "metadata": {
                "microsoft": {
                    "language": "python",
                    "language_group": "synapse_pyspark"
                },
                "cellStatus": "{\"Daniel Coelho\":{\"session_start_time\":null,\"execution_start_time\":\"2025-09-09T15:42:32.8965529Z\",\"execution_finish_time\":\"2025-09-09T15:42:40.8116719Z\",\"state\":\"finished\",\"livy_statement_state\":\"available\",\"normalized_state\":\"finished\"}}"
            },
            "source": [
                "t3_prod_df = spark.table(\"t3_prod\")\n",
                "\n",
                "t3_dev_df = t3_prod_df.sample(fraction=0.01, seed=42).write.format(\"delta\").mode(\"overwrite\").saveAsTable(\"dbo.t3_dev\")\n",
                "\n",
                "t3_test_df = t3_prod_df.sample(fraction=0.10, seed=123).write.format(\"delta\").mode(\"overwrite\").saveAsTable(\"dbo.t3_test\")"
            ],
            "outputs": []
        },
        {
            "id": "a250d0e1-c804-469b-9f7f-49105593f832",
            "cell_type": "code",
            "metadata": {
                "microsoft": {
                    "language": "python",
                    "language_group": "synapse_pyspark"
                },
                "cellStatus": "{\"Daniel Coelho\":{\"session_start_time\":null,\"execution_start_time\":\"2025-09-09T15:42:40.8139611Z\",\"execution_finish_time\":\"2025-09-09T15:42:45.6066925Z\",\"state\":\"finished\",\"livy_statement_state\":\"available\",\"normalized_state\":\"finished\"}}"
            },
            "source": [
                "print(spark.table(\"t3_prod\").count(), spark.table(\"t3_test\").count(), spark.table(\"t3_dev\").count())"
            ],
            "outputs": []
        }
    ]
}
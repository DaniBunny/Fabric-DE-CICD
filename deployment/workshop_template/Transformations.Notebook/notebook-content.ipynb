{
    "nbformat": 4,
    "nbformat_minor": 5,
    "metadata": {
        "language_info": {
            "name": "python"
        },
        "kernel_info": {
            "name": "synapse_pyspark",
            "jupyter_kernel_name": null
        },
        "kernelspec": {
            "display_name": "synapse_pyspark",
            "language": null,
            "name": "synapse_pyspark"
        },
        "a365ComputeOptions": null,
        "sessionKeepAliveTimeout": 0,
        "dependencies": {
            "lakehouse": {
                "default_lakehouse": "3e67377e-5962-433c-8c2f-d796a8687c2d",
                "default_lakehouse_name": "Lakehouse_Silver",
                "default_lakehouse_workspace_id": "8e0cc78d-1667-4e88-9523-a04c1d5dd187",
                "known_lakehouses": [
                    {
                        "id": "3e67377e-5962-433c-8c2f-d796a8687c2d"
                    },
                    {
                        "id": "3ad63567-2849-4e5b-9cf2-eacd059e50a5"
                    }
                ]
            },
            "environment": {}
        },
        "microsoft": {
            "language": "python",
            "language_group": "synapse_pyspark",
            "ms_spell_check": {
                "ms_spell_check_language": "en"
            }
        },
        "nteract": {
            "version": "nteract-front-end@1.0.0"
        },
        "spark_compute": {
            "compute_id": "/trident/default",
            "session_options": {
                "conf": {
                    "spark.synapse.nbs.session.timeout": "1200000"
                }
            }
        }
    },
    "cells": [
        {
            "id": "e0e1f49f-d5e3-40ab-a70d-befd84d06245",
            "cell_type": "code",
            "metadata": {
                "microsoft": {
                    "language": "sparksql",
                    "language_group": "synapse_pyspark"
                },
                "cellStatus": "{\"Daniel Coelho\":{\"session_start_time\":null,\"execution_start_time\":\"2025-09-09T16:56:21.225616Z\",\"execution_finish_time\":\"2025-09-09T16:57:16.921928Z\",\"state\":\"finished\",\"livy_statement_state\":\"available\",\"normalized_state\":\"finished\"}}",
                "collapsed": false
            },
            "source": [
                "%%sql\n",
                "\n",
                "create table dbo.t1 using DELTA as (\n",
                "    select * from t2 full outer join t3 limit 10000\n",
                ") "
            ],
            "outputs": [],
            "execution_count": 1
        },
        {
            "id": "f905ce6e-e7d4-422a-ad25-a3c4ba9d6c06",
            "cell_type": "code",
            "metadata": {
                "microsoft": {
                    "language": "sparksql",
                    "language_group": "synapse_pyspark"
                },
                "cellStatus": "{\"Daniel Coelho\":{\"session_start_time\":null,\"execution_start_time\":\"2025-09-09T16:57:16.9240313Z\",\"execution_finish_time\":\"2025-09-09T16:57:24.7994383Z\",\"state\":\"finished\",\"livy_statement_state\":\"available\",\"normalized_state\":\"finished\"}}",
                "collapsed": false
            },
            "source": [
                "%%sql\n",
                "\n",
                "optimize dbo.t1 vorder"
            ],
            "outputs": [],
            "execution_count": 2
        },
        {
            "id": "afacb741-1fae-4b43-9388-0de7ad531f90",
            "cell_type": "code",
            "metadata": {
                "microsoft": {
                    "language": "sparksql",
                    "language_group": "synapse_pyspark"
                },
                "cellStatus": "{\"Daniel Coelho\":{\"session_start_time\":null,\"execution_start_time\":\"2025-09-09T16:57:24.8016003Z\",\"execution_finish_time\":\"2025-09-09T16:57:28.2333164Z\",\"state\":\"finished\",\"livy_statement_state\":\"available\",\"normalized_state\":\"finished\"}}",
                "collapsed": false
            },
            "source": [
                "%%sql\n",
                "\n",
                "select age, countryOrRegion, count(1) as total from dbo.t1 group by age, countryOrRegion sort by 3 desc"
            ],
            "outputs": [],
            "execution_count": 3
        }
    ]
}
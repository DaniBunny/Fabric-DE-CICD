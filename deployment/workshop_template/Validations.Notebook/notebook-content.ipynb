{
    "nbformat": 4,
    "nbformat_minor": 5,
    "metadata": {
        "language_info": {
            "name": "sql"
        },
        "kernel_info": {
            "name": "synapse_pyspark",
            "jupyter_kernel_name": null
        },
        "kernelspec": {
            "display_name": "synapse_pyspark",
            "language": null,
            "name": "synapse_pyspark"
        },
        "a365ComputeOptions": null,
        "sessionKeepAliveTimeout": 0,
        "dependencies": {
            "lakehouse": {
                "default_lakehouse": "3e67377e-5962-433c-8c2f-d796a8687c2d",
                "default_lakehouse_name": "Lakehouse_Silver",
                "default_lakehouse_workspace_id": "8e0cc78d-1667-4e88-9523-a04c1d5dd187",
                "known_lakehouses": [
                    {
                        "id": "3e67377e-5962-433c-8c2f-d796a8687c2d"
                    }
                ]
            },
            "environment": {}
        },
        "microsoft": {
            "language": "sparksql",
            "language_group": "synapse_pyspark",
            "ms_spell_check": {
                "ms_spell_check_language": "en"
            }
        },
        "nteract": {
            "version": "nteract-front-end@1.0.0"
        },
        "spark_compute": {
            "compute_id": "/trident/default",
            "session_options": {
                "conf": {
                    "spark.synapse.nbs.session.timeout": "1200000"
                }
            }
        }
    },
    "cells": [
        {
            "id": "3be23ac5-d0bd-4eb1-a649-a12ff65b6e11",
            "cell_type": "code",
            "metadata": {
                "microsoft": {
                    "language": "sparksql",
                    "language_group": "synapse_pyspark"
                },
                "cellStatus": "{\"Daniel Coelho\":{\"session_start_time\":\"2025-09-09T16:58:52.4647971Z\",\"execution_start_time\":\"2025-09-09T16:58:54.4054029Z\",\"execution_finish_time\":\"2025-09-09T16:59:11.0204267Z\",\"state\":\"finished\",\"livy_statement_state\":\"available\",\"normalized_state\":\"finished\"}}",
                "collapsed": false
            },
            "source": [
                "select count(*) from dbo.t3"
            ],
            "outputs": [],
            "execution_count": 1
        },
        {
            "id": "0c9f29b0-2c55-4ad5-8088-d4069811754a",
            "cell_type": "code",
            "metadata": {
                "microsoft": {
                    "language": "sparksql",
                    "language_group": "synapse_pyspark"
                },
                "cellStatus": "{\"Daniel Coelho\":{\"session_start_time\":null,\"execution_start_time\":\"2025-09-09T16:59:21.3789484Z\",\"execution_finish_time\":\"2025-09-09T16:59:25.8533142Z\",\"state\":\"finished\",\"livy_statement_state\":\"available\",\"normalized_state\":\"finished\"}}",
                "collapsed": false
            },
            "source": [
                "select countryOrRegion, count(1) from dbo.t3 group by countryOrRegion"
            ],
            "outputs": [],
            "execution_count": 4
        },
        {
            "id": "62b4e54d-2509-4c42-b235-46d2e278f1d4",
            "cell_type": "code",
            "metadata": {
                "microsoft": {
                    "language": "sparksql",
                    "language_group": "synapse_pyspark"
                },
                "cellStatus": "{\"Daniel Coelho\":{\"session_start_time\":null,\"execution_start_time\":\"2025-09-09T16:59:11.0224669Z\",\"execution_finish_time\":\"2025-09-09T16:59:16.9695154Z\",\"state\":\"finished\",\"livy_statement_state\":\"available\",\"normalized_state\":\"finished\"}}",
                "collapsed": false
            },
            "source": [
                "select count(*) from dbo.t2"
            ],
            "outputs": [],
            "execution_count": 2
        },
        {
            "id": "61ab31a4-1747-4f74-8131-5e96b2b636dd",
            "cell_type": "code",
            "metadata": {
                "microsoft": {
                    "language": "sparksql",
                    "language_group": "synapse_pyspark"
                },
                "cellStatus": "{\"Daniel Coelho\":{\"session_start_time\":null,\"execution_start_time\":\"2025-09-09T16:59:16.9716614Z\",\"execution_finish_time\":\"2025-09-09T16:59:21.3771118Z\",\"state\":\"finished\",\"livy_statement_state\":\"available\",\"normalized_state\":\"finished\"}}",
                "collapsed": false
            },
            "source": [
                "select count(*) from dbo.t1"
            ],
            "outputs": [],
            "execution_count": 3
        }
    ]
}